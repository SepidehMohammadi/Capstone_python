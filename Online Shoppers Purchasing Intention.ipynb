{
 "cells": [
  {
   "cell_type": "code",
   "execution_count": null,
   "metadata": {},
   "outputs": [],
   "source": [
    "import pandas as pd\n",
    "import numpy as np \n",
    "import os \n",
    "import matplotlib.pyplot as plt\n",
    "%matplotlib inline\n",
    "import seaborn as sns"
   ]
  },
  {
   "cell_type": "code",
   "execution_count": null,
   "metadata": {},
   "outputs": [],
   "source": [
    "from sklearn.preprocessing import LabelEncoder \n",
    "from sklearn.preprocessing import OneHotEncoder \n",
    "from sklearn.preprocessing import StandardScaler\n",
    "from sklearn.compose import ColumnTransformer\n",
    "from sklearn.impute import SimpleImputer \n",
    "from sklearn.model_selection import train_test_split\n",
    "from sklearn.svm import SVC\n",
    "from sklearn import metrics\n",
    "from sklearn.metrics import classification_report, confusion_matrix, accuracy_score\n",
    "from sklearn.ensemble import RandomForestClassifier\n",
    "from sklearn.ensemble import IsolationForest"
   ]
  },
  {
   "cell_type": "code",
   "execution_count": null,
   "metadata": {},
   "outputs": [],
   "source": [
    "path = os.path.join(\"Resources\", \"online_shoppers_intention.csv\")"
   ]
  },
  {
   "cell_type": "code",
   "execution_count": null,
   "metadata": {},
   "outputs": [],
   "source": [
    "OSHIdf = pd.read_csv(path)"
   ]
  },
  {
   "cell_type": "code",
   "execution_count": null,
   "metadata": {},
   "outputs": [],
   "source": [
    "OSHIdf.head(20)"
   ]
  },
  {
   "cell_type": "code",
   "execution_count": null,
   "metadata": {},
   "outputs": [],
   "source": [
    "#list of attributes \n",
    "OSHIdf.columns"
   ]
  },
  {
   "cell_type": "code",
   "execution_count": null,
   "metadata": {},
   "outputs": [],
   "source": [
    "#Dimesions of the Data frame\n",
    "OSHIdf.shape"
   ]
  },
  {
   "cell_type": "code",
   "execution_count": null,
   "metadata": {},
   "outputs": [],
   "source": [
    "OSHIdf.dtypes"
   ]
  },
  {
   "cell_type": "code",
   "execution_count": null,
   "metadata": {},
   "outputs": [],
   "source": [
    "#Attributes data type\n",
    "OSHIdf.info()"
   ]
  },
  {
   "cell_type": "code",
   "execution_count": null,
   "metadata": {},
   "outputs": [],
   "source": [
    "#Checking the summary of numeric attributes \n",
    "plt.figure(figsize = (12,8))\n",
    "sns.heatmap(OSHIdf.describe()[1:].transpose(),\n",
    "            annot=True,linecolor = \"w\",\n",
    "            linewidth=2, cmap=sns.color_palette(\"muted\"))\n",
    "plt.title(\"Data Summary\")\n",
    "plt.show()"
   ]
  },
  {
   "cell_type": "code",
   "execution_count": null,
   "metadata": {},
   "outputs": [],
   "source": [
    "#Detecting missing Values \n",
    "OSHIdf.isna().sum()"
   ]
  },
  {
   "cell_type": "code",
   "execution_count": null,
   "metadata": {},
   "outputs": [],
   "source": [
    "#Detecting missing Values \n",
    "OSHIdf.isnull().sum()"
   ]
  },
  {
   "cell_type": "code",
   "execution_count": null,
   "metadata": {},
   "outputs": [],
   "source": [
    " cleanOSHIdf = OSHIdf"
   ]
  },
  {
   "cell_type": "code",
   "execution_count": null,
   "metadata": {},
   "outputs": [],
   "source": [
    "#Finding number of cases which clicked on Adminstative pages but their corresponding Adminstative_duration is 0, \n",
    "#Meaning Administative_duration is missing from that row missing_Administartive_duration = OSHIdf[(OSHIdf[\"Administrative\"] >= 1) & (OSHIdf[\"Administrative_Duration\"] == 0)]\n",
    "missing_Administartive_duration = OSHIdf[(OSHIdf[\"Administrative\"] >= 1) & (OSHIdf[\"Administrative_Duration\"] == 0)]\n",
    "missing_Administartive_duration.shape[0]"
   ]
  },
  {
   "cell_type": "code",
   "execution_count": null,
   "metadata": {},
   "outputs": [],
   "source": [
    "#Now we are detecting which values of adminstrative has one or more than one but show 0 as value in in their corresponding Adminstattive_duration\n",
    "#We are doing these to avoid kind a replacement which will end up to reduction in variance and might effect corrolation as well \n",
    "#To avoid this we replace 0 values on the Administartive_duration columns with the median of duration on that specific group and not the median of duration for the whole column of duration\n",
    "OSHIdf[\"Administrative\"]. value_counts()\n",
    "OSHIdf[(OSHIdf[\"Administrative\"] == 1) & (OSHIdf[\"Administrative_Duration\"] == 0)].shape[0]\n",
    "OSHIdf[(OSHIdf[\"Administrative\"] == 2) & (OSHIdf[\"Administrative_Duration\"] == 0)].shape[0]\n",
    "# so Administrative duration has 135 missing values, 131 of them has been clicked on 1 Aministarative page and 4 of them has been clicked on 2 Administrative pages, \n",
    "#we will replace 134 of zero values with mean of duration for rows with 1 as Administrative value and the rest (4 zero values) with mean of adminstrative rows with 2 as value "
   ]
  },
  {
   "cell_type": "code",
   "execution_count": null,
   "metadata": {},
   "outputs": [],
   "source": [
    "#We want to get the mean of adminstrative_Duration when Adminstrative is 1 \n",
    "OSHIdf.loc[(OSHIdf[\"Administrative\"] == 1) & (OSHIdf[\"Administrative_Duration\"] != 0),\"Administrative_Duration\"].mean()"
   ]
  },
  {
   "cell_type": "code",
   "execution_count": null,
   "metadata": {},
   "outputs": [],
   "source": [
    "#we will replace all the 0 values on adminstrative_Duration with correspond adminstrative as 1 with the mean of adminstrative_Duration when Adminstrative is 1 \n",
    "cleanOSHIdf[(cleanOSHIdf[\"Administrative\"] == 1) & (cleanOSHIdf[\"Administrative_Duration\"] == 0)].replace({0 : 47.050223958417824})['Administrative_Duration']"
   ]
  },
  {
   "cell_type": "code",
   "execution_count": null,
   "metadata": {},
   "outputs": [],
   "source": [
    "OSHIdf.loc[(OSHIdf[\"Administrative\"] == 2) & (OSHIdf[\"Administrative_Duration\"] != 0),\"Administrative_Duration\"].mean()"
   ]
  },
  {
   "cell_type": "code",
   "execution_count": null,
   "metadata": {},
   "outputs": [],
   "source": [
    "cleanOSHIdf[(cleanOSHIdf[\"Administrative\"] == 2) & (cleanOSHIdf[\"Administrative_Duration\"] == 0)].replace({0 : 86.5326272501054})['Administrative_Duration']"
   ]
  },
  {
   "cell_type": "code",
   "execution_count": null,
   "metadata": {},
   "outputs": [],
   "source": [
    "clean_missing_Administartive_duration = cleanOSHIdf[(cleanOSHIdf[\"Administrative\"] >= 1) & (cleanOSHIdf[\"Administrative_Duration\"] == 0)]\n",
    "clean_missing_Administartive_duration.shape[0] #should find a way to assign these replacement back to the data frame, in this case cleanOSHIdf"
   ]
  },
  {
   "cell_type": "code",
   "execution_count": null,
   "metadata": {},
   "outputs": [],
   "source": [
    "#Finding number of cases which clicked on Informational pages but their corresponding Informational_duration ishows 0,\n",
    "#Meaning Informational_duration is missing from that row \n",
    "missing_Informational_duration = OSHIdf[(OSHIdf[\"Informational\"] >= 1) & (OSHIdf[\"Informational_Duration\"] == 0)]\n",
    "missing_Informational_duration.shape[0]"
   ]
  },
  {
   "cell_type": "code",
   "execution_count": null,
   "metadata": {},
   "outputs": [],
   "source": [
    "#Now we are detecting which values of Informational has one or more than one but show 0 as value in in their corresponding Informational_duration\n",
    "OSHIdf[\"Informational\"]. value_counts()\n",
    "OSHIdf[(OSHIdf[\"Informational\"] == 1) & (OSHIdf[\"Informational_Duration\"] == 0)].shape[0]\n",
    "OSHIdf[(OSHIdf[\"Informational\"] == 2) & (OSHIdf[\"Informational_Duration\"] == 0)].shape[0]\n",
    "\n",
    "# so Informational duration has 226 missing values, 217 of them has been clicked one Informational page, 9 of them has been clicked on two Informational pages, \n",
    "#we will replace 226 of zero values with mean of duration for rows with 1 as Informational value and the rest (9 zero values) with mean of Informational rows with 2 as value "
   ]
  },
  {
   "cell_type": "code",
   "execution_count": null,
   "metadata": {},
   "outputs": [],
   "source": [
    "OSHIdf.loc[(OSHIdf[\"Informational\"] == 1) & (OSHIdf[\"Informational_Duration\"] != 0),\"Informational_Duration\"].mean()"
   ]
  },
  {
   "cell_type": "code",
   "execution_count": null,
   "metadata": {},
   "outputs": [],
   "source": [
    "cleanOSHIdf[(cleanOSHIdf[\"Informational\"] == 1) & (cleanOSHIdf[\"Informational_Duration\"] == 0)].replace({0 : 90.6099865344199})['Informational_Duration']"
   ]
  },
  {
   "cell_type": "code",
   "execution_count": null,
   "metadata": {},
   "outputs": [],
   "source": [
    "OSHIdf.loc[(OSHIdf[\"Informational\"] == 2) & (OSHIdf[\"Informational_Duration\"] != 0),\"Informational_Duration\"].mean()"
   ]
  },
  {
   "cell_type": "code",
   "execution_count": null,
   "metadata": {},
   "outputs": [],
   "source": [
    "cleanOSHIdf[(cleanOSHIdf[\"Informational\"] == 2) & (cleanOSHIdf[\"Informational_Duration\"] == 0)].replace({0 : 141.64488012520584})['Informational_Duration']"
   ]
  },
  {
   "cell_type": "code",
   "execution_count": null,
   "metadata": {},
   "outputs": [],
   "source": [
    "clean_missing_Informational_duration = cleanOSHIdf[(cleanOSHIdf[\"Informational\"] >= 1) & (cleanOSHIdf[\"Informational_Duration\"] == 0)]\n",
    "clean_missing_Informational_duration.shape[0] # should find a way to assign above replacement back to the data frame, in this case cleanOSHIdf"
   ]
  },
  {
   "cell_type": "code",
   "execution_count": null,
   "metadata": {},
   "outputs": [],
   "source": [
    "#Finding number of cases which clicked on Product Related pages but their corresponding ProductRelated_Duration is 0, \n",
    "#meaning ProductRelated_Duration is missing from that row \n",
    "missing_ProductRelated_Duration = OSHIdf[(OSHIdf[\"ProductRelated\"] >= 1) & (OSHIdf[\"ProductRelated_Duration\"] == 0)]\n",
    "missing_ProductRelated_Duration.shape[0]"
   ]
  },
  {
   "cell_type": "code",
   "execution_count": null,
   "metadata": {},
   "outputs": [],
   "source": [
    "#Now we are detecting which values of ProductRelated has one or more than one but show 0 as value in in their corresponding ProductRelated_duration\n",
    "OSHIdf[\"ProductRelated\"]. value_counts()\n",
    "OSHIdf[(OSHIdf[\"ProductRelated\"] == 13) & (OSHIdf[\"ProductRelated_Duration\"] == 0)].shape[0]\n",
    "total_missing_ProductRelated_duration = 553 + 103 + 35 + 11 + 7 + 2 + 1 + 2 + 1 + 1 + 1 \n",
    "total_missing_ProductRelated_duration\n",
    "# so ProductRelated duration has 717 missing values, 553 with 1 click, 103 with 2 clicks, 35 with 3 clicks, 11 with 4 clicks, 7 with 5 clicks, 2 with 6 clicks, 1 with 7, 2 with 9 and 1 for each 10, 11 and 13 clicks \n",
    "#we will replace them with the mean of the row for their correspanding ProductRelated values. "
   ]
  },
  {
   "cell_type": "code",
   "execution_count": null,
   "metadata": {},
   "outputs": [],
   "source": [
    "OSHIdf.loc[(OSHIdf[\"ProductRelated\"] == 1) & (OSHIdf[\"ProductRelated_Duration\"] != 0),\"ProductRelated_Duration\"].mean()"
   ]
  },
  {
   "cell_type": "code",
   "execution_count": null,
   "metadata": {},
   "outputs": [],
   "source": [
    "cleanOSHIdf[(cleanOSHIdf[\"ProductRelated\"] == 1) & (cleanOSHIdf[\"ProductRelated_Duration\"] == 0)].replace({0 : 151.07815906086958})['ProductRelated_Duration']"
   ]
  },
  {
   "cell_type": "code",
   "execution_count": null,
   "metadata": {},
   "outputs": [],
   "source": [
    "OSHIdf.loc[(OSHIdf[\"ProductRelated\"] == 2) & (OSHIdf[\"ProductRelated_Duration\"] != 0),\"ProductRelated_Duration\"].mean()"
   ]
  },
  {
   "cell_type": "code",
   "execution_count": null,
   "metadata": {},
   "outputs": [],
   "source": [
    "cleanOSHIdf[(cleanOSHIdf[\"ProductRelated\"] == 2) & (cleanOSHIdf[\"ProductRelated_Duration\"] == 0)].replace({0 : 80.47439334844474})['ProductRelated_Duration']"
   ]
  },
  {
   "cell_type": "code",
   "execution_count": null,
   "metadata": {},
   "outputs": [],
   "source": [
    "OSHIdf.loc[(OSHIdf[\"ProductRelated\"] == 3) & (OSHIdf[\"ProductRelated_Duration\"] != 0),\"ProductRelated_Duration\"].mean()"
   ]
  },
  {
   "cell_type": "code",
   "execution_count": null,
   "metadata": {},
   "outputs": [],
   "source": [
    "cleanOSHIdf[(cleanOSHIdf[\"ProductRelated\"] == 3) & (cleanOSHIdf[\"ProductRelated_Duration\"] == 0)].replace({0 : 127.51597533182742})['ProductRelated_Duration']"
   ]
  },
  {
   "cell_type": "code",
   "execution_count": null,
   "metadata": {},
   "outputs": [],
   "source": [
    "OSHIdf.loc[(OSHIdf[\"ProductRelated\"] == 4) & (OSHIdf[\"ProductRelated_Duration\"] != 0),\"ProductRelated_Duration\"].mean()"
   ]
  },
  {
   "cell_type": "code",
   "execution_count": null,
   "metadata": {},
   "outputs": [],
   "source": [
    "cleanOSHIdf[(cleanOSHIdf[\"ProductRelated\"] == 4) & (cleanOSHIdf[\"ProductRelated_Duration\"] == 0)].replace({0 : 167.65052730130535})['ProductRelated_Duration']"
   ]
  },
  {
   "cell_type": "code",
   "execution_count": null,
   "metadata": {},
   "outputs": [],
   "source": [
    "OSHIdf.loc[(OSHIdf[\"ProductRelated\"] == 5) & (OSHIdf[\"ProductRelated_Duration\"] != 0),\"ProductRelated_Duration\"].mean()"
   ]
  },
  {
   "cell_type": "code",
   "execution_count": null,
   "metadata": {},
   "outputs": [],
   "source": [
    "cleanOSHIdf[(cleanOSHIdf[\"ProductRelated\"] == 5) & (cleanOSHIdf[\"ProductRelated_Duration\"] == 0)].replace({0 : 191.099408254})['ProductRelated_Duration']"
   ]
  },
  {
   "cell_type": "code",
   "execution_count": null,
   "metadata": {},
   "outputs": [],
   "source": [
    "OSHIdf.loc[(OSHIdf[\"ProductRelated\"] == 6) & (OSHIdf[\"ProductRelated_Duration\"] != 0),\"ProductRelated_Duration\"].mean()"
   ]
  },
  {
   "cell_type": "code",
   "execution_count": null,
   "metadata": {},
   "outputs": [],
   "source": [
    "cleanOSHIdf[(cleanOSHIdf[\"ProductRelated\"] == 6) & (cleanOSHIdf[\"ProductRelated_Duration\"] == 0)].replace({0 : 246.3537186793401})['ProductRelated_Duration']"
   ]
  },
  {
   "cell_type": "code",
   "execution_count": null,
   "metadata": {},
   "outputs": [],
   "source": [
    "OSHIdf.loc[(OSHIdf[\"ProductRelated\"] == 7) & (OSHIdf[\"ProductRelated_Duration\"] != 0),\"ProductRelated_Duration\"].mean()"
   ]
  },
  {
   "cell_type": "code",
   "execution_count": null,
   "metadata": {},
   "outputs": [],
   "source": [
    "cleanOSHIdf[(cleanOSHIdf[\"ProductRelated\"] == 7) & (cleanOSHIdf[\"ProductRelated_Duration\"] == 0)].replace({0 : 305.2883542408718})['ProductRelated_Duration']"
   ]
  },
  {
   "cell_type": "code",
   "execution_count": null,
   "metadata": {},
   "outputs": [],
   "source": [
    "OSHIdf.loc[(OSHIdf[\"ProductRelated\"] == 9) & (OSHIdf[\"ProductRelated_Duration\"] != 0),\"ProductRelated_Duration\"].mean()"
   ]
  },
  {
   "cell_type": "code",
   "execution_count": null,
   "metadata": {},
   "outputs": [],
   "source": [
    "cleanOSHIdf[(cleanOSHIdf[\"ProductRelated\"] == 9) & (cleanOSHIdf[\"ProductRelated_Duration\"] == 0)].replace({0 : 376.41020841326986})['ProductRelated_Duration']"
   ]
  },
  {
   "cell_type": "code",
   "execution_count": null,
   "metadata": {},
   "outputs": [],
   "source": [
    "OSHIdf.loc[(OSHIdf[\"ProductRelated\"] == 10) & (OSHIdf[\"ProductRelated_Duration\"] != 0),\"ProductRelated_Duration\"].mean()"
   ]
  },
  {
   "cell_type": "code",
   "execution_count": null,
   "metadata": {},
   "outputs": [],
   "source": [
    "cleanOSHIdf[(cleanOSHIdf[\"ProductRelated\"] == 10) & (cleanOSHIdf[\"ProductRelated_Duration\"] == 0)].replace({0 : 367.33093260778116})['ProductRelated_Duration']"
   ]
  },
  {
   "cell_type": "code",
   "execution_count": null,
   "metadata": {},
   "outputs": [],
   "source": [
    "OSHIdf.loc[(OSHIdf[\"ProductRelated\"] == 11) & (OSHIdf[\"ProductRelated_Duration\"] != 0),\"ProductRelated_Duration\"].mean()"
   ]
  },
  {
   "cell_type": "code",
   "execution_count": null,
   "metadata": {},
   "outputs": [],
   "source": [
    "cleanOSHIdf[(cleanOSHIdf[\"ProductRelated\"] == 11) & (cleanOSHIdf[\"ProductRelated_Duration\"] == 0)].replace({0 : 490.62991092257323})['ProductRelated_Duration']"
   ]
  },
  {
   "cell_type": "code",
   "execution_count": null,
   "metadata": {},
   "outputs": [],
   "source": [
    "OSHIdf.loc[(OSHIdf[\"ProductRelated\"] == 13) & (OSHIdf[\"ProductRelated_Duration\"] != 0),\"ProductRelated_Duration\"].mean()"
   ]
  },
  {
   "cell_type": "code",
   "execution_count": null,
   "metadata": {},
   "outputs": [],
   "source": [
    "cleanOSHIdf[(cleanOSHIdf[\"ProductRelated\"] == 13) & (cleanOSHIdf[\"ProductRelated_Duration\"] == 0)].replace({0 : 503.35250030163195})['ProductRelated_Duration']"
   ]
  },
  {
   "cell_type": "code",
   "execution_count": null,
   "metadata": {},
   "outputs": [],
   "source": [
    "clean_missing_ProductRelated_duration = cleanOSHIdf[(cleanOSHIdf[\"ProductRelated\"] >= 1) & (cleanOSHIdf[\"ProductRelated_Duration\"] == 0)]\n",
    "clean_missing_ProductRelated_duration.shape[0] # should find a way to assign above replacement back to the data frame, in this case cleanOSHIdf"
   ]
  },
  {
   "cell_type": "code",
   "execution_count": null,
   "metadata": {},
   "outputs": [],
   "source": [
    "#page value missing values\n",
    "missing_PageValues = OSHIdf[(OSHIdf[\"Administrative\"] >= 1) & (OSHIdf[\"Informational\"] >= 1) & (OSHIdf[\"ProductRelated\"] >= 1) & (OSHIdf[\"PageValues\"] == 0)]\n",
    "missing_PageValues.shape[0]"
   ]
  },
  {
   "cell_type": "code",
   "execution_count": null,
   "metadata": {},
   "outputs": [],
   "source": [
    "#Generating histograms for quantitative variables \n",
    "#Administrative \n",
    "hist_plot_Administartive = OSHIdf['Administrative'].hist(bins = 25, grid = False, color = \"pink\")\n",
    "hist_plot_Administartive.set_title('Adminstartive Page Vistited By The User in a Session')\n",
    "hist_plot_Administartive.set_xlabel('Number of Time Administrative Page Visited')\n",
    "hist_plot_Administartive.set_ylabel('Count of Users')"
   ]
  },
  {
   "cell_type": "code",
   "execution_count": null,
   "metadata": {},
   "outputs": [],
   "source": [
    "#Generating histograms for quantitative variables \n",
    "#Informational\n",
    "hist_plot_Informational = OSHIdf['Informational'].hist(bins = 20, grid = False, color = \"green\")\n",
    "hist_plot_Informational.set_title('Informational Page Vistited By The User in a Session')\n",
    "hist_plot_Informational.set_xlabel('Number of Time Informational Page Visited')\n",
    "hist_plot_Informational.set_ylabel('Count of Users')"
   ]
  },
  {
   "cell_type": "code",
   "execution_count": null,
   "metadata": {},
   "outputs": [],
   "source": [
    "#Generating histograms for quantitative variables \n",
    "#ProductRelated\n",
    "hist_plot_ProductRelated = OSHIdf['ProductRelated'].hist(bins = 20, grid = False, color = \"y\")\n",
    "hist_plot_ProductRelated.set_title('ProductRelated Page Vistited By The User in a Session')\n",
    "hist_plot_ProductRelated.set_xlabel('Number of Time ProductRelated Page Visited')\n",
    "hist_plot_ProductRelated.set_ylabel('Count of Users')"
   ]
  },
  {
   "cell_type": "code",
   "execution_count": null,
   "metadata": {},
   "outputs": [],
   "source": [
    "#Generating histograms for quantitative variables \n",
    "#Administrative_Duration\n",
    "hist_plot_Administrative_Duration = OSHIdf['Administrative_Duration'].hist(bins = 25, grid = False, color = \"orange\")\n",
    "hist_plot_Administrative_Duration.set_title('Time Spent on Administrative pages')\n",
    "hist_plot_Administrative_Duration.set_xlabel('Time Spent In Second')\n",
    "hist_plot_Administrative_Duration.set_ylabel('Count of Users')"
   ]
  },
  {
   "cell_type": "code",
   "execution_count": null,
   "metadata": {},
   "outputs": [],
   "source": [
    "#Generating histograms for quantitative variables \n",
    "#Informational_Duration'\n",
    "hist_plot_Informational_Duration = OSHIdf['Informational_Duration'].hist(bins = 25, grid = False, color = \"lightblue\")\n",
    "hist_plot_Informational_Duration.set_title('Time Spent on Informational pages')\n",
    "hist_plot_Informational_Duration.set_xlabel('Time Spent In Second')\n",
    "hist_plot_Informational_Duration.set_ylabel('Count of Users')"
   ]
  },
  {
   "cell_type": "code",
   "execution_count": null,
   "metadata": {},
   "outputs": [],
   "source": [
    "#Generating histograms for quantitative variables \n",
    "#ProductRelated_Duration\n",
    "hist_plot_ProductRelated_Duration = OSHIdf['ProductRelated_Duration'].hist(bins = 25, grid = False, color = \"r\")\n",
    "hist_plot_ProductRelated_Duration.set_title('Time Spent on ProductRelated Pages')\n",
    "hist_plot_ProductRelated_Duration.set_xlabel('Time Spent In Second')\n",
    "hist_plot_ProductRelated_Duration.set_ylabel('Count of Users')"
   ]
  },
  {
   "cell_type": "code",
   "execution_count": null,
   "metadata": {},
   "outputs": [],
   "source": [
    "#Generating histograms for quantitative variables \n",
    "#BounceRates\n",
    "hist_plot_BounceRates = OSHIdf['BounceRates'].hist(bins = 25, grid = False, color = \"mediumaquamarine\")\n",
    "hist_plot_BounceRates.set_title('Bounce Rates, Single Request Triggered')\n",
    "hist_plot_BounceRates.set_xlabel('Bounce Rate In Percentage')\n",
    "hist_plot_BounceRates.set_ylabel('Count of Users')"
   ]
  },
  {
   "cell_type": "code",
   "execution_count": null,
   "metadata": {},
   "outputs": [],
   "source": [
    "#Generating histograms for quantitative variables \n",
    "#Exit Rates\n",
    "hist_plot_ExitRates = OSHIdf['ExitRates'].hist(bins = 25, grid = False, color = \"orangered\")\n",
    "hist_plot_ExitRates.set_title('Exit Rates, Percentage of People who Left the Site from that Page')\n",
    "hist_plot_ExitRates.set_xlabel('Exit Rates In Percentage')\n",
    "hist_plot_ExitRates.set_ylabel('Count of Users')"
   ]
  },
  {
   "cell_type": "code",
   "execution_count": null,
   "metadata": {},
   "outputs": [],
   "source": [
    "#Generating histograms for quantitative variables \n",
    "#Page Values\n",
    "hist_plot_PageValues = OSHIdf['PageValues'].hist(bins = 25, grid = False, color = \"m\")\n",
    "hist_plot_PageValues.set_title('Page Values')\n",
    "hist_plot_PageValues.set_xlabel('Average Number Of Page Visited')\n",
    "hist_plot_PageValues.set_ylabel('Count of Users')"
   ]
  },
  {
   "cell_type": "code",
   "execution_count": null,
   "metadata": {},
   "outputs": [],
   "source": [
    "#Checking the levels and frequency tables for categorical variables \n",
    "#frequency table for Month\n",
    "pd.crosstab(index = OSHIdf[\"Month\"], columns = \"Count\")"
   ]
  },
  {
   "cell_type": "code",
   "execution_count": null,
   "metadata": {},
   "outputs": [],
   "source": [
    "#Percentage of different visitors type in the dataset\n",
    "plt.rcParams[\"figure.figsize\"] = (20, 10)\n",
    "size = [10551, 1694, 85]\n",
    "colors = [\"g\", \"y\", \"r\"]\n",
    "labels = \"Returning Visitors\", \"New Visitors\", \"Others\"\n",
    "explode = [0, 0, 0.1]\n",
    "plt.subplot(1, 2, 1)\n",
    "plt.pie(size, colors = colors, labels = labels, explode = explode, shadow = True, autopct = '%.2f%%')\n",
    "plt.title(\"Visitors Type\", fontsize = 22)\n",
    "plt.axis(\"off\")\n",
    "plt.legend()"
   ]
  },
  {
   "cell_type": "code",
   "execution_count": null,
   "metadata": {},
   "outputs": [],
   "source": [
    "#frequency table for Weekend\n",
    "pd.crosstab(index = OSHIdf[\"Weekend\"], columns = \"Count\")"
   ]
  },
  {
   "cell_type": "code",
   "execution_count": null,
   "metadata": {},
   "outputs": [],
   "source": [
    "#Plotting the Revenue \n",
    "plt.figure(figsize =(10, 6))\n",
    "print(\"Did not buy:\", len(OSHIdf[OSHIdf.Revenue == 0]))\n",
    "print(\"Bought:\", len(OSHIdf[OSHIdf.Revenue == 1]))\n",
    "y = len(OSHIdf[OSHIdf.Revenue == 0]), len(OSHIdf[OSHIdf.Revenue == 1])\n",
    "x = [\"Did not buy\", \"Bought\"]\n",
    "plt.bar(x, y, color = \"lightgreen\")\n",
    "plt.show "
   ]
  },
  {
   "cell_type": "code",
   "execution_count": null,
   "metadata": {},
   "outputs": [],
   "source": [
    "\n"
   ]
  },
  {
   "cell_type": "code",
   "execution_count": null,
   "metadata": {},
   "outputs": [],
   "source": [
    "#frequency table for Revenue \n",
    "pd.crosstab(index = OSHIdf[\"Revenue\"], columns = \"Count\")"
   ]
  },
  {
   "cell_type": "code",
   "execution_count": null,
   "metadata": {},
   "outputs": [],
   "source": [
    "OSHIy = OSHIdf.iloc[:, :17:18]\n",
    "OSHIy.shape"
   ]
  },
  {
   "cell_type": "code",
   "execution_count": null,
   "metadata": {},
   "outputs": [],
   "source": [
    "cleanOSHIX = OSHIX"
   ]
  },
  {
   "cell_type": "code",
   "execution_count": null,
   "metadata": {},
   "outputs": [],
   "source": [
    "#Handling non-numeric features/creating dummy or indicator variables \n",
    "cleanOSHIX = pd.get_dummies(cleanOSHIX, columns=['Month', 'VisitorType', 'Weekend'], drop_first = True)"
   ]
  },
  {
   "cell_type": "code",
   "execution_count": null,
   "metadata": {},
   "outputs": [],
   "source": [
    "cleanOSHIX.shape"
   ]
  },
  {
   "cell_type": "code",
   "execution_count": null,
   "metadata": {},
   "outputs": [],
   "source": [
    "cleanOSHIX.head(20)"
   ]
  },
  {
   "cell_type": "code",
   "execution_count": null,
   "metadata": {},
   "outputs": [],
   "source": [
    "#In python we need to distinguish between the matrix of features(Independent variables) and the dependent variable vector\n",
    "OSHIX = OSHIdf.iloc[:, :-1]\n",
    "OSHIX.shape"
   ]
  },
  {
   "cell_type": "code",
   "execution_count": null,
   "metadata": {},
   "outputs": [],
   "source": [
    "cleanOSHIX[\"Administrative\"].value_counts()"
   ]
  },
  {
   "cell_type": "code",
   "execution_count": null,
   "metadata": {},
   "outputs": [],
   "source": [
    "#6562 user clicked on Administative pages and 5768 of them clicked on the other two(informational or product_related pages)\n",
    "(cleanOSHIX[\"Administrative\"] >= 1).value_counts()"
   ]
  },
  {
   "cell_type": "code",
   "execution_count": null,
   "metadata": {},
   "outputs": [],
   "source": [
    "##9699 user clicked on AInformational pages and 2631 of them clicked on the other two(Adminstartive or product_related pages)\n",
    "(cleanOSHIX[\"Informational\"] >= 1).value_counts()"
   ]
  },
  {
   "cell_type": "code",
   "execution_count": null,
   "metadata": {},
   "outputs": [],
   "source": [
    "##12292 of user clicked on Administative pages and 38 of them clicked on the other two(informational or Administrative)\n",
    "(cleanOSHIX[\"ProductRelated\"] >= 1).value_counts()"
   ]
  },
  {
   "cell_type": "code",
   "execution_count": null,
   "metadata": {},
   "outputs": [],
   "source": [
    "OSHIdf.info()"
   ]
  },
  {
   "cell_type": "code",
   "execution_count": null,
   "metadata": {},
   "outputs": [],
   "source": [
    "bool = ['Weekend', 'Revenue']"
   ]
  },
  {
   "cell_type": "code",
   "execution_count": null,
   "metadata": {},
   "outputs": [],
   "source": [
    "categorical = ['Month', 'VisitorType']"
   ]
  },
  {
   "cell_type": "code",
   "execution_count": null,
   "metadata": {},
   "outputs": [],
   "source": [
    "type(numerical)"
   ]
  },
  {
   "cell_type": "code",
   "execution_count": null,
   "metadata": {},
   "outputs": [],
   "source": [
    "OSHIdf['Month'].value_counts().count()"
   ]
  },
  {
   "cell_type": "code",
   "execution_count": null,
   "metadata": {},
   "outputs": [],
   "source": [
    "OSHIdf['PageValues'].value_counts().count()"
   ]
  },
  {
   "cell_type": "code",
   "execution_count": null,
   "metadata": {},
   "outputs": [],
   "source": [
    "(OSHIdf['Administrative_Duration']!= 0).value_counts()"
   ]
  },
  {
   "cell_type": "code",
   "execution_count": null,
   "metadata": {},
   "outputs": [],
   "source": [
    "(OSHIdf['Administrative']!= 0).value_counts()"
   ]
  },
  {
   "cell_type": "code",
   "execution_count": null,
   "metadata": {},
   "outputs": [],
   "source": [
    "6562 - 6427 "
   ]
  },
  {
   "cell_type": "code",
   "execution_count": null,
   "metadata": {},
   "outputs": [],
   "source": [
    "OSHIdf.shape"
   ]
  },
  {
   "cell_type": "code",
   "execution_count": null,
   "metadata": {},
   "outputs": [],
   "source": [
    "(OSHIdf['ProductRelated_Duration']!= 0).value_counts()"
   ]
  },
  {
   "cell_type": "code",
   "execution_count": null,
   "metadata": {},
   "outputs": [],
   "source": [
    "(OSHIdf['PageValues']!= 0).value_counts().groupby"
   ]
  },
  {
   "cell_type": "code",
   "execution_count": null,
   "metadata": {},
   "outputs": [],
   "source": [
    "12292 - 11575"
   ]
  },
  {
   "cell_type": "code",
   "execution_count": null,
   "metadata": {},
   "outputs": [],
   "source": [
    "OSHIdf.loc[(OSHIdf[\"Administrative\"] == 1) & (OSHIdf[\"Administrative_Duration\"] == 0),\"Administrative_Duration\"].count()"
   ]
  },
  {
   "cell_type": "code",
   "execution_count": null,
   "metadata": {},
   "outputs": [],
   "source": [
    "OSHIdf.loc[(OSHIdf[\"Administrative\"] == 1) & (OSHIdf[\"Administrative_Duration\"] != 0),\"Administrative_Duration\"].mean()"
   ]
  },
  {
   "cell_type": "code",
   "execution_count": null,
   "metadata": {},
   "outputs": [],
   "source": [
    "OSHIdf[(OSHIdf[\"Administrative\"] == 1) & (OSHIdf[\"Administrative_Duration\"] == 0)].replace({0 : 47.050223958417824})['Administrative_Duration']"
   ]
  },
  {
   "cell_type": "code",
   "execution_count": null,
   "metadata": {},
   "outputs": [],
   "source": []
  }
 ],
 "metadata": {
  "kernelspec": {
   "display_name": "Capstone_python",
   "language": "python",
   "name": "capstone_python"
  },
  "language_info": {
   "codemirror_mode": {
    "name": "ipython",
    "version": 3
   },
   "file_extension": ".py",
   "mimetype": "text/x-python",
   "name": "python",
   "nbconvert_exporter": "python",
   "pygments_lexer": "ipython3",
   "version": "3.7.5"
  }
 },
 "nbformat": 4,
 "nbformat_minor": 4
}
